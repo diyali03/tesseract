{
 "cells": [
  {
   "cell_type": "code",
   "execution_count": 6,
   "metadata": {
    "collapsed": true
   },
   "outputs": [],
   "source": [
    "import cv2\n",
    "import numpy as np\n",
    "img = cv2.imread('case_1.png',0)"
   ]
  },
  {
   "cell_type": "code",
   "execution_count": 19,
   "metadata": {
    "collapsed": false
   },
   "outputs": [
    {
     "data": {
      "text/plain": [
       "(526, 998, 526, 998)"
      ]
     },
     "execution_count": 19,
     "metadata": {},
     "output_type": "execute_result"
    }
   ],
   "source": []
  },
  {
   "cell_type": "code",
   "execution_count": 16,
   "metadata": {
    "collapsed": false
   },
   "outputs": [
    {
     "name": "stdout",
     "output_type": "stream",
     "text": [
      "Populating the interactive namespace from numpy and matplotlib\n"
     ]
    },
    {
     "data": {
      "image/png": "[encoded data removed]",
      "text/plain": [
       "<matplotlib.figure.Figure at 0x11906c080>"
      ]
     },
     "metadata": {},
     "output_type": "display_data"
    }
   ],
   "source": [
    "%pylab inline\n",
    "import matplotlib.pyplot as plt\n",
    "import matplotlib.image as mpimg\n",
    "imgplot = plt.imshow(img, cmap=None, norm=None, aspect=None, interpolation=None, \n",
    "                     alpha=None, vmin=None, vmax=None, origin=None, extent=None, \n",
    "                     shape=img.shape, filternorm=1, filterrad=4.0, imlim=None, resample=None, \n",
    "                     url=None, hold=None, data=None)\n",
    "#plt.figure(figsize=(6000,1))  \n",
    "plt.show()"
   ]
  },
  {
   "cell_type": "markdown",
   "metadata": {},
   "source": [
    "## bd api"
   ]
  },
  {
   "cell_type": "code",
   "execution_count": 24,
   "metadata": {
    "collapsed": true
   },
   "outputs": [],
   "source": [
    "# import api\n",
    "from aip import AipOcr\n",
    "\n",
    "# define api\n",
    "APP_ID = '9865717'\n",
    "API_KEY = 'PGd4k97c2TZVIPc8uLo1M4o3'\n",
    "SECRET_KEY = 'tutQkG0XvtTzFq3DEf6OOww7KGoMMTls'\n",
    "\n",
    "\n",
    "# read img\n",
    "def get_file_content(filePath):\n",
    "    with open(filePath, 'rb') as fp:\n",
    "        return fp.read()\n",
    "\n",
    "# initial aip\n",
    "aipOcr = AipOcr(APP_ID, API_KEY, SECRET_KEY)\n",
    "\n",
    "# define config\n",
    "options = {\n",
    "  'detect_direction': 'true',\n",
    "  'language_type': 'CHN_ENG',\n",
    "}\n",
    "\n",
    "# use api\n",
    "result_1 = aipOcr.basicGeneral(get_file_content('case_1.png'), options)\n",
    "result_2 = aipOcr.basicGeneral(get_file_content('case_2.png'), options)"
   ]
  },
  {
   "cell_type": "code",
   "execution_count": 25,
   "metadata": {
    "collapsed": false
   },
   "outputs": [
    {
     "data": {
      "text/plain": [
       "{'direction': 0,\n",
       " 'log_id': 679796615,\n",
       " 'words_result': [{'words': '郭落区'},\n",
       "  {'words': '慈|女|呼吸科住院病历|未归裆|单位:人民医院呼啜科|医生邓铠'},\n",
       "  {'words': '日画患者列'},\n",
       "  {'words': '录]道首病程]病程记录]检查结果]院治疗]世院记录]样本信息]ORD文件]哆多媒体管理]改痕迹]'},\n",
       "  {'words': 'g本单位影者'},\n",
       "  {'words': 'g已归档患者'},\n",
       "  {'words': '临床表现白'},\n",
       "  {'words': '画患者基本信息X'},\n",
       "  {'words': '@资料查询'},\n",
       "  {'words': '主诉x'},\n",
       "  {'words': '急性加重'},\n",
       "  {'words': '全文检索'},\n",
       "  {'words': '现病史'},\n",
       "  {'words': '诱因'},\n",
       "  {'words': '显诱因'},\n",
       "  {'words': '临床表现x'},\n",
       "  {'words': '入院前其他检查'},\n",
       "  {'words': '抽样检查'},\n",
       "  {'words': '○无'},\n",
       "  {'words': '质疑公告'},\n",
       "  {'words': '既往史'},\n",
       "  {'words': '画个人史x'},\n",
       "  {'words': '月经生育史国'},\n",
       "  {'words': '家族史国x'},\n",
       "  {'words': '日画其他'},\n",
       "  {'words': '体格检查'},\n",
       "  {'words': '伴发症状'},\n",
       "  {'words': '站内消息'},\n",
       "  {'words': '回回口'},\n",
       "  {'words': '⊙无'},\n",
       "  {'words': '○有'}],\n",
       " 'words_result_num': 31}"
      ]
     },
     "execution_count": 25,
     "metadata": {},
     "output_type": "execute_result"
    }
   ],
   "source": [
    "result_1"
   ]
  },
  {
   "cell_type": "code",
   "execution_count": 26,
   "metadata": {
    "collapsed": false
   },
   "outputs": [
    {
     "data": {
      "text/plain": [
       "{'direction': 0,\n",
       " 'log_id': 680715738,\n",
       " 'words_result': [{'words': '骨科入院记录'},\n",
       "  {'words': '姓名:程喜佑性别:男'},\n",
       "  {'words': '年龄:53岁科室:骨伤科'},\n",
       "  {'words': '病区:二病区'},\n",
       "  {'words': '床号:82'},\n",
       "  {'words': '住院号:12001332民族:汉族婚姻:已婚'},\n",
       "  {'words': '职业:农民'},\n",
       "  {'words': '住址ε安徽省黄山市休宁县'},\n",
       "  {'words': '出生地:安徽黄山发病节气:'},\n",
       "  {'words': '病史陈述者(关系'},\n",
       "  {'words': '病史了解程度:可靠'},\n",
       "  {'words': 'A入院时间:2012-07-2814:34'},\n",
       "  {'words': '记录时间:2012-07-2911:'},\n",
       "  {'words': '现病史:患者于3小时前干活活时不慎跌倒,致右髋部肿胀、疼痛、活动受限,遂由家属送至我院9'},\n",
       "  {'words': '摄线片示“右股骨转子间'},\n",
       "  {'words': '门诊拟诊:“右殷股骨转子间骨折”收住入科。病程中'},\n",
       "  {'words': '往史:平素健康状况:良好'},\n",
       "  {'words': '疾病史:不详传染病史:不详预防接种史:不详预防接种药'},\n",
       "  {'words': '手术外伤史:手术:无手术名称及时间:-'},\n",
       "  {'words': '外伤:无外伤情况及时间:'},\n",
       "  {'words': '输血史:不详输血时间:'},\n",
       "  {'words': '输血反应:不详'},\n",
       "  {'words': '药物过敏史:不详过敏药'},\n",
       "  {'words': '个人史经常居留地:本地,地方病地区居住史:无'},\n",
       "  {'words': '吸烟史:无平均-支/日时间-年,饮酒史:无平均-两/日时间-年'},\n",
       "  {'words': '家族史:否认家族遗传性病史。'},\n",
       "  {'words': '体格检查'},\n",
       "  {'words': '全身情况:T:36.4'},\n",
       "  {'words': '81次/分;R:20次份分;BP:146/71mnHg(kPa)'}],\n",
       " 'words_result_num': 29}"
      ]
     },
     "execution_count": 26,
     "metadata": {},
     "output_type": "execute_result"
    }
   ],
   "source": [
    "result_2"
   ]
  },
  {
   "cell_type": "code",
   "execution_count": 30,
   "metadata": {
    "collapsed": false
   },
   "outputs": [
    {
     "data": {
      "text/plain": [
       "{'direction': 0,\n",
       " 'log_id': 1341271329,\n",
       " 'words_result': [{'words': ' Preview file edit view go tools window help'},\n",
       "  {'words': ' case _ . png'},\n",
       "  {'words': '骨科入院记录'},\n",
       "  {'words': '姓名:程喜佑性别:男'},\n",
       "  {'words': '年龄:53岁科室:骨伤科'},\n",
       "  {'words': '病区:二病区'},\n",
       "  {'words': '床号:32'},\n",
       "  {'words': '住院号:12001332民族:汉族婚姻:已婚'},\n",
       "  {'words': '职业:农民'},\n",
       "  {'words': '住址:安徽省黄山市休宁县'},\n",
       "  {'words': '出生地:安徽黄山发病节气'},\n",
       "  {'words': '病史陈述者(关系)'},\n",
       "  {'words': '病史了解程度:可靠'},\n",
       "  {'words': '入院时间:2012-07-2814:34'},\n",
       "  {'words': '记录时间:2012-07-2911:08'},\n",
       "  {'words': '主诉:跌伤右髋肿痛3小时'},\n",
       "  {'words': '现病史:患者于3小时前干活时不憤跌倒,致右骸部肿胀、疼痛、活动受限,遂由家属送至我院就诊,'},\n",
       "  {'words': '门诊摄线片示“右股骨转子间骨折”,门诊拟诊:“右股骨转子间骨折”收住入科。病程中'},\n",
       "  {'words': '无昏迷、恶心、呕吐,无腹胀、瞑痛,无肢体感觉障碍'},\n",
       "  {'words': '既往史:平素健康状况:良好'},\n",
       "  {'words': '疾病史:不详传染病史:不详预防接种史:不详预防接种药品:-'},\n",
       "  {'words': '手术外伤史:手术:无手术名称及时间:'},\n",
       "  {'words': '外伤:无外伤情况及时间'},\n",
       "  {'words': '输血史:不详输血时间'},\n",
       "  {'words': '输血反应:不详'},\n",
       "  {'words': '药物过敏史:不详过敏药物名称:'},\n",
       "  {'words': '个人史:经常居留地:本地,地方病地区居住史:无。'},\n",
       "  {'words': '吸烟史:无平均-支/日时间-年,饮酒史:无平均-两/日时间-年'},\n",
       "  {'words': '毒品接触史:无毒品名称:'},\n",
       "  {'words': '时间:'},\n",
       "  {'words': '婚育史:配偶健康状况良好。'},\n",
       "  {'words': '家族史:否认家族遗传性病史'},\n",
       "  {'words': '体格检查'},\n",
       "  {'words': '全身情况:T:36.4℃;P:81次份分;R:20次/分;BP:146/71mnHg(kPa)'}],\n",
       " 'words_result_num': 34}"
      ]
     },
     "execution_count": 30,
     "metadata": {},
     "output_type": "execute_result"
    }
   ],
   "source": [
    "result_3 = aipOcr.basicGeneral(get_file_content('case_shoot_copy.jpg'), options)\n",
    "result_3"
   ]
  },
  {
   "cell_type": "code",
   "execution_count": null,
   "metadata": {
    "collapsed": true
   },
   "outputs": [],
   "source": []
  }
 ],
 "metadata": {
  "kernelspec": {
   "display_name": "Python 3",
   "language": "python",
   "name": "python3"
  },
  "language_info": {
   "codemirror_mode": {
    "name": "ipython",
    "version": 3
   },
   "file_extension": ".py",
   "mimetype": "text/x-python",
   "name": "python",
   "nbconvert_exporter": "python",
   "pygments_lexer": "ipython3",
   "version": "3.6.0"
  }
 },
 "nbformat": 4,
 "nbformat_minor": 2
}
